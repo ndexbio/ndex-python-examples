{
 "cells": [
  {
   "cell_type": "markdown",
   "metadata": {},
   "source": [
    "Import Python Modules"
   ]
  },
  {
   "cell_type": "code",
   "execution_count": 2,
   "metadata": {
    "collapsed": false
   },
   "outputs": [
    {
     "ename": "SyntaxError",
     "evalue": "invalid syntax (<ipython-input-2-090451a22e1b>, line 3)",
     "output_type": "error",
     "traceback": [
      "\u001b[0;36m  File \u001b[0;32m\"<ipython-input-2-090451a22e1b>\"\u001b[0;36m, line \u001b[0;32m3\u001b[0m\n\u001b[0;31m    import .ndex_examples.causal_paths.causal_utilities as cu\u001b[0m\n\u001b[0m           ^\u001b[0m\n\u001b[0;31mSyntaxError\u001b[0m\u001b[0;31m:\u001b[0m invalid syntax\n"
     ]
    }
   ],
   "source": [
    "from ndex.networkn import NdexGraph\n",
    "import ndex.beta.toolbox as toolbox\n",
    "from ndex_examples.causal_paths import causal_utilities as cu"
   ]
  },
  {
   "cell_type": "markdown",
   "metadata": {},
   "source": [
    "Setup NDEx Connection Configuration"
   ]
  },
  {
   "cell_type": "code",
   "execution_count": null,
   "metadata": {
    "collapsed": true
   },
   "outputs": [],
   "source": [
    "ndex_server = \"http://public.ndexbio.org\"\n",
    "rm_username=\"test\"\n",
    "rm_password=\"test\""
   ]
  },
  {
   "cell_type": "code",
   "execution_count": null,
   "metadata": {
    "collapsed": true
   },
   "outputs": [],
   "source": [
    "Import the desired reference network"
   ]
  },
  {
   "cell_type": "code",
   "execution_count": null,
   "metadata": {
    "collapsed": true
   },
   "outputs": [],
   "source": [
    "#Get the RAS machine\n",
    "network_id='50e3dff7-133e-11e6-a039-06603eb7f303'\n",
    "G = NdexGraph(server=ndex_server, uuid=network_id, username=rm_username, password=rm_password)"
   ]
  },
  {
   "cell_type": "markdown",
   "metadata": {},
   "source": [
    "HUMAN: “Inhibition of EGFR downregulated MEK phosphorylation”\n",
    "\n",
    "BOB: new observation = decreased EGFR (source) -> decreased MAP2K1 and MAP2K2 (targets) phosphorylation"
   ]
  },
  {
   "cell_type": "code",
   "execution_count": null,
   "metadata": {
    "collapsed": true
   },
   "outputs": [],
   "source": [
    "# Compute the source-target network\n",
    "P1 = cu.get_source_target_network(G, ['EGFR'], ['MAP2K1, MAP2K2'], \"EGFR to MAP2K1 and MAP2K2\", npaths=20)"
   ]
  },
  {
   "cell_type": "code",
   "execution_count": null,
   "metadata": {
    "collapsed": true
   },
   "outputs": [],
   "source": [
    "# Apply a layout\n",
    "toolbox.apply_source_target_layout(P1)"
   ]
  },
  {
   "cell_type": "code",
   "execution_count": null,
   "metadata": {
    "collapsed": true
   },
   "outputs": [],
   "source": [
    "# Apply a cytoscape style from a template network\n",
    "template_id = '4f53171c-600f-11e6-b0a6-06603eb7f303'\n",
    "toolbox.apply_template(P1, template_id)"
   ]
  },
  {
   "cell_type": "code",
   "execution_count": null,
   "metadata": {
    "collapsed": true
   },
   "outputs": [],
   "source": [
    "# Save to NDEx in the drh account\n",
    "P1.upload_to(ndex_server, 'drh', 'drh')"
   ]
  },
  {
   "cell_type": "markdown",
   "metadata": {},
   "source": [
    "HUMAN: \"We mutated MAP2K1 at serine 25 and observed decreased phosphorylation of MMP9\"\n",
    "\n",
    "BOB: new observation = mutation of MAP2K1 (source) -> decreased MMP9 (target) phosphorylation"
   ]
  },
  {
   "cell_type": "code",
   "execution_count": null,
   "metadata": {
    "collapsed": true
   },
   "outputs": [],
   "source": [
    "# Compute the source-target network\n",
    "P2 = cu.get_source_target_network(G, ['MAP2K1'], ['MMP9'], \"MAP2K1 to MMP9\", npaths=20)"
   ]
  },
  {
   "cell_type": "code",
   "execution_count": null,
   "metadata": {
    "collapsed": true
   },
   "outputs": [],
   "source": [
    "# Apply a layout\n",
    "toolbox.apply_source_target_layout(P2)"
   ]
  },
  {
   "cell_type": "code",
   "execution_count": null,
   "metadata": {
    "collapsed": true
   },
   "outputs": [],
   "source": [
    "# Apply a cytoscape style from a template network\n",
    "template_id = '4f53171c-600f-11e6-b0a6-06603eb7f303'\n",
    "toolbox.apply_template(P2, template_id)"
   ]
  },
  {
   "cell_type": "code",
   "execution_count": null,
   "metadata": {
    "collapsed": true
   },
   "outputs": [],
   "source": [
    "# Save to NDEx in the drh account\n",
    "P2.upload_to(ndex_server, 'drh', 'drh')"
   ]
  }
 ],
 "metadata": {
  "kernelspec": {
   "display_name": "Python [Root]",
   "language": "python",
   "name": "Python [Root]"
  },
  "language_info": {
   "codemirror_mode": {
    "name": "ipython",
    "version": 2
   },
   "file_extension": ".py",
   "mimetype": "text/x-python",
   "name": "python",
   "nbconvert_exporter": "python",
   "pygments_lexer": "ipython2",
   "version": "2.7.12"
  }
 },
 "nbformat": 4,
 "nbformat_minor": 0
}
