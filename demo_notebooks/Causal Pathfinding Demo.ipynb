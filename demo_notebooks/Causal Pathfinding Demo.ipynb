{
 "cells": [
  {
   "cell_type": "markdown",
   "metadata": {},
   "source": [
    "Import Python Modules"
   ]
  },
  {
   "cell_type": "code",
   "execution_count": 1,
   "metadata": {},
   "outputs": [],
   "source": [
    "from ndex.networkn import NdexGraph\n",
    "import ndex.beta.toolbox as toolbox\n",
    "from causal_paths import causal_utilities as cu"
   ]
  },
  {
   "cell_type": "markdown",
   "metadata": {},
   "source": [
    "Setup NDEx Connection Configuration"
   ]
  },
  {
   "cell_type": "code",
   "execution_count": 2,
   "metadata": {},
   "outputs": [],
   "source": [
    "ndex_server = \"http://public.ndexbio.org\"\n",
    "rm_username=\"test\"\n",
    "rm_password=\"test\""
   ]
  },
  {
   "cell_type": "markdown",
   "metadata": {},
   "source": [
    "Import the desired reference network"
   ]
  },
  {
   "cell_type": "code",
   "execution_count": 6,
   "metadata": {},
   "outputs": [
    {
     "data": {
      "text/plain": [
       "u'The RAS Machine'"
      ]
     },
     "execution_count": 6,
     "output_type": "execute_result",
     "metadata": {}
    }
   ],
   "source": [
    "#Get the RAS machine\n",
    "network_id='50e3dff7-133e-11e6-a039-06603eb7f303'\n",
    "G = NdexGraph(server=ndex_server, uuid=network_id, username=rm_username, password=rm_password)\n",
    "G.get_name()"
   ]
  },
  {
   "cell_type": "markdown",
   "metadata": {},
   "source": [
    "HUMAN: “Inhibition of EGFR downregulated MEK phosphorylation”\n",
    "\n",
    "BOB: new observation = decreased EGFR (source) -> decreased MAP2K1 and MAP2K2 (targets) phosphorylation"
   ]
  },
  {
   "cell_type": "code",
   "execution_count": 7,
   "metadata": {},
   "outputs": [
    {
     "ename": "KeyError",
     "evalue": "233",
     "output_type": "error",
     "traceback": [
      "\u001b[0;31m---------------------------------------------------------------------------\u001b[0m",
      "\u001b[0;31mKeyError\u001b[0m                                  Traceback (most recent call last)",
      "\u001b[0;32m<ipython-input-7-f2621c63e428>\u001b[0m in \u001b[0;36m<module>\u001b[0;34m()\u001b[0m\n\u001b[1;32m      1\u001b[0m \u001b[0;31m# Compute the source-target network\u001b[0m\u001b[0;34m\u001b[0m\u001b[0;34m\u001b[0m\u001b[0m\n\u001b[0;32m----> 2\u001b[0;31m \u001b[0mP1\u001b[0m \u001b[0;34m=\u001b[0m \u001b[0mcu\u001b[0m\u001b[0;34m.\u001b[0m\u001b[0mget_source_target_network\u001b[0m\u001b[0;34m(\u001b[0m\u001b[0mG\u001b[0m\u001b[0;34m,\u001b[0m \u001b[0;34m[\u001b[0m\u001b[0;34m'EGFR'\u001b[0m\u001b[0;34m]\u001b[0m\u001b[0;34m,\u001b[0m \u001b[0;34m[\u001b[0m\u001b[0;34m'MAP2K1, MAP2K2'\u001b[0m\u001b[0;34m]\u001b[0m\u001b[0;34m,\u001b[0m \u001b[0;34m\"EGFR to MAP2K1 and MAP2K2\"\u001b[0m\u001b[0;34m,\u001b[0m \u001b[0mnpaths\u001b[0m\u001b[0;34m=\u001b[0m\u001b[0;36m20\u001b[0m\u001b[0;34m)\u001b[0m\u001b[0;34m\u001b[0m\u001b[0m\n\u001b[0m",
      "\u001b[0;32m/Users/dexter/Projects/ndex-python-examples/demo_notebooks/causal_paths/causal_utilities.py\u001b[0m in \u001b[0;36mget_source_target_network\u001b[0;34m(reference_network, source_names, target_names, new_network_name, npaths)\u001b[0m\n\u001b[1;32m    146\u001b[0m     \u001b[0msource_ids\u001b[0m\u001b[0;34m=\u001b[0m\u001b[0mget_node_ids_by_names\u001b[0m\u001b[0;34m(\u001b[0m\u001b[0mreference_network\u001b[0m\u001b[0;34m,\u001b[0m \u001b[0msource_names\u001b[0m\u001b[0;34m)\u001b[0m\u001b[0;34m\u001b[0m\u001b[0m\n\u001b[1;32m    147\u001b[0m     \u001b[0mtarget_ids\u001b[0m\u001b[0;34m=\u001b[0m\u001b[0mget_node_ids_by_names\u001b[0m\u001b[0;34m(\u001b[0m\u001b[0mreference_network\u001b[0m\u001b[0;34m,\u001b[0m \u001b[0mtarget_names\u001b[0m\u001b[0;34m)\u001b[0m\u001b[0;34m\u001b[0m\u001b[0m\n\u001b[0;32m--> 148\u001b[0;31m     \u001b[0mP1\u001b[0m \u001b[0;34m=\u001b[0m \u001b[0mnetwork_from_paths\u001b[0m\u001b[0;34m(\u001b[0m\u001b[0mreference_network\u001b[0m\u001b[0;34m,\u001b[0m \u001b[0mforward1\u001b[0m\u001b[0;34m,\u001b[0m \u001b[0mreverse1\u001b[0m\u001b[0;34m,\u001b[0m \u001b[0msource_ids\u001b[0m\u001b[0;34m,\u001b[0m \u001b[0mtarget_ids\u001b[0m\u001b[0;34m)\u001b[0m\u001b[0;34m\u001b[0m\u001b[0m\n\u001b[0m\u001b[1;32m    149\u001b[0m     \u001b[0mP1\u001b[0m\u001b[0;34m.\u001b[0m\u001b[0mset_name\u001b[0m\u001b[0;34m(\u001b[0m\u001b[0mnew_network_name\u001b[0m\u001b[0;34m)\u001b[0m\u001b[0;34m\u001b[0m\u001b[0m\n\u001b[1;32m    150\u001b[0m     \u001b[0;32mprint\u001b[0m \u001b[0;34m\"Created \"\u001b[0m \u001b[0;34m+\u001b[0m \u001b[0mP1\u001b[0m\u001b[0;34m.\u001b[0m\u001b[0mget_name\u001b[0m\u001b[0;34m(\u001b[0m\u001b[0;34m)\u001b[0m\u001b[0;34m\u001b[0m\u001b[0m\n",
      "\u001b[0;32m/Users/dexter/Projects/ndex-python-examples/demo_notebooks/causal_paths/causal_utilities.py\u001b[0m in \u001b[0;36mnetwork_from_paths\u001b[0;34m(G, forward, reverse, sources, targets)\u001b[0m\n\u001b[1;32m     99\u001b[0m         \u001b[0madd_path\u001b[0m\u001b[0;34m(\u001b[0m\u001b[0mM\u001b[0m\u001b[0;34m,\u001b[0m \u001b[0mG\u001b[0m\u001b[0;34m,\u001b[0m \u001b[0mpath\u001b[0m\u001b[0;34m,\u001b[0m \u001b[0;34m'Reverse'\u001b[0m\u001b[0;34m,\u001b[0m \u001b[0medge_tuples\u001b[0m\u001b[0;34m)\u001b[0m\u001b[0;34m\u001b[0m\u001b[0m\n\u001b[1;32m    100\u001b[0m     \u001b[0;32mfor\u001b[0m \u001b[0msource\u001b[0m \u001b[0;32min\u001b[0m \u001b[0msources\u001b[0m\u001b[0;34m:\u001b[0m\u001b[0;34m\u001b[0m\u001b[0m\n\u001b[0;32m--> 101\u001b[0;31m         \u001b[0mM\u001b[0m\u001b[0;34m.\u001b[0m\u001b[0mnode\u001b[0m\u001b[0;34m[\u001b[0m\u001b[0msource\u001b[0m\u001b[0;34m]\u001b[0m\u001b[0;34m[\u001b[0m\u001b[0;34m'st_layout'\u001b[0m\u001b[0;34m]\u001b[0m \u001b[0;34m=\u001b[0m \u001b[0;34m'Source'\u001b[0m\u001b[0;34m\u001b[0m\u001b[0m\n\u001b[0m\u001b[1;32m    102\u001b[0m     \u001b[0;32mfor\u001b[0m \u001b[0mtarget\u001b[0m \u001b[0;32min\u001b[0m \u001b[0mtargets\u001b[0m\u001b[0;34m:\u001b[0m\u001b[0;34m\u001b[0m\u001b[0m\n\u001b[1;32m    103\u001b[0m         \u001b[0mM\u001b[0m\u001b[0;34m.\u001b[0m\u001b[0mnode\u001b[0m\u001b[0;34m[\u001b[0m\u001b[0mtarget\u001b[0m\u001b[0;34m]\u001b[0m\u001b[0;34m[\u001b[0m\u001b[0;34m'st_layout'\u001b[0m\u001b[0;34m]\u001b[0m \u001b[0;34m=\u001b[0m \u001b[0;34m'Target'\u001b[0m\u001b[0;34m\u001b[0m\u001b[0m\n",
      "\u001b[0;31mKeyError\u001b[0m: 233"
     ]
    }
   ],
   "source": [
    "# Compute the source-target network\n",
    "P1 = cu.get_source_target_network(G, ['EGFR'], ['MAP2K1, MAP2K2'], \"EGFR to MAP2K1 and MAP2K2\", npaths=20)"
   ]
  },
  {
   "cell_type": "code",
   "execution_count": null,
   "metadata": {},
   "outputs": [],
   "source": [
    "# Apply a layout\n",
    "toolbox.apply_source_target_layout(P1)"
   ]
  },
  {
   "cell_type": "code",
   "execution_count": null,
   "metadata": {},
   "outputs": [],
   "source": [
    "# Apply a cytoscape style from a template network\n",
    "template_id = '4f53171c-600f-11e6-b0a6-06603eb7f303'\n",
    "toolbox.apply_template(P1, template_id)"
   ]
  },
  {
   "cell_type": "code",
   "execution_count": null,
   "metadata": {},
   "outputs": [],
   "source": [
    "# Save to NDEx in the drh account\n",
    "P1.upload_to(ndex_server, 'drh', 'drh')"
   ]
  },
  {
   "cell_type": "markdown",
   "metadata": {},
   "source": [
    "HUMAN: \"We mutated MAP2K1 at serine 25 and observed decreased phosphorylation of MMP9\"\n",
    "\n",
    "BOB: new observation = mutation of MAP2K1 (source) -> decreased MMP9 (target) phosphorylation"
   ]
  },
  {
   "cell_type": "code",
   "execution_count": null,
   "metadata": {},
   "outputs": [],
   "source": [
    "# Compute the source-target network\n",
    "P2 = cu.get_source_target_network(G, ['MAP2K1'], ['MMP9'], \"MAP2K1 to MMP9\", npaths=20)"
   ]
  },
  {
   "cell_type": "code",
   "execution_count": null,
   "metadata": {},
   "outputs": [],
   "source": [
    "# Apply a layout\n",
    "toolbox.apply_source_target_layout(P2)"
   ]
  },
  {
   "cell_type": "code",
   "execution_count": null,
   "metadata": {},
   "outputs": [],
   "source": [
    "# Apply a cytoscape style from a template network\n",
    "template_id = '4f53171c-600f-11e6-b0a6-06603eb7f303'\n",
    "toolbox.apply_template(P2, template_id)"
   ]
  },
  {
   "cell_type": "code",
   "execution_count": null,
   "metadata": {},
   "outputs": [],
   "source": [
    "# Save to NDEx in the drh account\n",
    "P2.upload_to(ndex_server, 'drh', 'drh')"
   ]
  }
 ],
 "metadata": {
  "anaconda-cloud": {},
  "kernelspec": {
   "display_name": "Python [Root]",
   "language": "python",
   "name": "Python [Root]"
  },
  "language_info": {
   "codemirror_mode": {
    "name": "ipython",
    "version": 2.0
   },
   "file_extension": ".py",
   "mimetype": "text/x-python",
   "name": "python",
   "nbconvert_exporter": "python",
   "pygments_lexer": "ipython2",
   "version": "2.7.12"
  }
 },
 "nbformat": 4,
 "nbformat_minor": 0
}